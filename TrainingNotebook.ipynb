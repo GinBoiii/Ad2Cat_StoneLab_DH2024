{
  "cells": [
    {
      "cell_type": "code",
      "execution_count": null,
      "metadata": {
        "colab": {
          "base_uri": "https://localhost:8080/"
        },
        "id": "8EINNf1RdDWO",
        "outputId": "1b4fda62-5983-4e5b-9a32-0b8dac98217a"
      },
      "outputs": [
        {
          "name": "stdout",
          "output_type": "stream",
          "text": [
            "Drive already mounted at /content/drive; to attempt to forcibly remount, call drive.mount(\"/content/drive\", force_remount=True).\n",
            "[Errno 2] No such file or directory: 'drive/My Drive/'\n",
            "/content/drive/My Drive/DragonHack\n",
            "[Errno 2] No such file or directory: 'DragonHack'\n",
            "/content/drive/My Drive/DragonHack\n"
          ]
        }
      ],
      "source": [
        "import torch\n",
        "import torchvision.transforms as transforms\n",
        "import os\n",
        "import pandas as pd\n",
        "from PIL import Image\n",
        "import torch.nn as nn\n",
        "from collections import Counter\n",
        "import numpy as np\n",
        "import matplotlib.pyplot as plt\n",
        "import matplotlib.patches as patches\n",
        "import cv2\n",
        "from tqdm import tqdm\n",
        "import torch.optim as optim\n",
        "import torchvision.transforms.functional as FT\n",
        "from torch.utils.data import DataLoader\n",
        "\n",
        "import shutil\n",
        "import pathlib\n",
        "import os\n",
        "from google.colab import drive\n",
        "drive.mount('/content/drive')\n",
        "%cd drive/My\\ Drive/\n",
        "%cd DragonHack\n"
      ]
    },
    {
      "cell_type": "code",
      "execution_count": null,
      "metadata": {
        "colab": {
          "base_uri": "https://localhost:8080/"
        },
        "id": "_UStdUAW3vtR",
        "outputId": "8ff6f448-4762-4557-b361-453fbe951a84"
      },
      "outputs": [
        {
          "name": "stdout",
          "output_type": "stream",
          "text": [
            "Data has been written to val.csv\n"
          ]
        }
      ],
      "source": [
        "import os\n",
        "import csv\n",
        "\n",
        "\n",
        "def load_annotations(annotation_folder):\n",
        "    annotations = {}\n",
        "    for file_name in os.listdir(annotation_folder):\n",
        "        if file_name.endswith(\".txt\"):\n",
        "            image_name = os.path.splitext(file_name)[0] + \".jpg\"\n",
        "            annotations[image_name] = file_name\n",
        "    return annotations\n",
        "\n",
        "\n",
        "def write_to_csv(image_folder, annotation_folder, csv_file):\n",
        "    image_annotations = {}\n",
        "    for image_file in os.listdir(image_folder):\n",
        "        if image_file.endswith(\".jpg\"):\n",
        "            image_name = image_file\n",
        "            annotation_file = os.path.splitext(image_file)[0] + \".txt\"\n",
        "            annotation_path = os.path.join(annotation_folder, annotation_file)\n",
        "            if os.path.exists(annotation_path):\n",
        "                image_annotations[image_name] = annotation_file\n",
        "\n",
        "    with open(csv_file, \"w\", newline=\"\") as file:\n",
        "        writer = csv.writer(file)\n",
        "        writer.writerow([\"Image Name\", \"Annotation\"])\n",
        "        for image_name, annotation_file in image_annotations.items():\n",
        "            writer.writerow([image_name, annotation_file])\n",
        "\n",
        "\n",
        "# Path to the folders containing images and annotations\n",
        "image_folder_path = \"images/val\"\n",
        "annotation_folder_path = \"labels/val\"\n",
        "\n",
        "# Path to the CSV file\n",
        "csv_file_path = \"val.csv\"\n",
        "\n",
        "# Loading annotations from the annotations folder\n",
        "annotations = load_annotations(annotation_folder_path)\n",
        "\n",
        "# Writing data to the CSV file\n",
        "write_to_csv(image_folder_path, annotation_folder_path, csv_file_path)\n",
        "\n",
        "print(f\"Data has been written to {csv_file_path}\")"
      ]
    },
    {
      "cell_type": "code",
      "execution_count": null,
      "metadata": {
        "id": "x6TfxCSZjmIt"
      },
      "outputs": [],
      "source": [
        "# Hyperparameters etc.\n",
        "\n",
        "SEED = 123\n",
        "LEARNING_RATE = 1e-5\n",
        "DEVICE = \"cuda\" if torch.cuda.is_available() else \"cpu\"\n",
        "BATCH_SIZE = 16\n",
        "WEIGHT_DECAY = 0\n",
        "EPOCHS = 100\n",
        "NUM_WORKERS = 2\n",
        "PIN_MEMORY = True\n",
        "LOAD_MODEL = False\n",
        "SAVE_MODEL = True\n",
        "THRESHOLD = 0.4\n",
        "IOU_THRESHOLD = 0.5\n",
        "\n",
        "CLASSES = [\"Add\"]\n",
        "C = len(CLASSES)\n",
        "S = 7\n",
        "\n",
        "SAVE_MODEL_FILE = \"my_checkpoint.pth\"\n",
        "LOAD_MODEL_FILE = \"overfit.pth.tar\"\n",
        "\n",
        "TRAIN_DIR = \"/train\"\n",
        "TEST_DIR = \"/test\"\n",
        "VAL_DIR = \"/val\"\n",
        "\n",
        "IMAGE_DIR = \"images\"\n",
        "LABEL_DIR = \"labels\"\n",
        "PLOT_DIR = \"plots\"\n",
        "\n",
        "\n",
        "def normal_transform(image, bboxes):\n",
        "    transform = transforms.Compose(\n",
        "        [transforms.Resize((416, 416)), transforms.PILToTensor()]\n",
        "    )\n",
        "    image = transform(image).float()\n",
        "    return image, bboxes"
      ]
    },
    {
      "cell_type": "code",
      "execution_count": null,
      "metadata": {
        "id": "y-jicD0UjtGy"
      },
      "outputs": [],
      "source": [
        "class YoloDataset(torch.utils.data.Dataset):\n",
        "    def __init__(self, csv_file, img_dir, label_dir, transform=None):\n",
        "        self.annotations = pd.read_csv(csv_file)\n",
        "        self.img_dir = img_dir\n",
        "        self.label_dir = label_dir\n",
        "        self.transform = transform\n",
        "        self.S = 7\n",
        "        self.B = 2\n",
        "        self.C = C\n",
        "\n",
        "    def __len__(self):\n",
        "        return len(self.annotations)\n",
        "\n",
        "    def __getitem__(self, index):\n",
        "        label_path = os.path.join(self.label_dir, self.annotations.iloc[index, 1])\n",
        "        boxes = []\n",
        "        c = self.C\n",
        "        with open(label_path) as f:\n",
        "            for label in f.readlines():\n",
        "                class_label, x, y, width, height = [\n",
        "                    float(x) for x in label.replace(\"\\n\", \"\").split()\n",
        "                ]\n",
        "                boxes.append([class_label, x, y, width, height])\n",
        "            img_path = os.path.join(self.img_dir, self.annotations.iloc[index, 0])\n",
        "            image = Image.open(img_path)\n",
        "            boxes = torch.tensor(boxes)\n",
        "\n",
        "            if self.transform:\n",
        "                image, boxes = self.transform(image, boxes)\n",
        "\n",
        "            label_matrix = torch.zeros((self.S, self.S, self.C + 5 * self.B))\n",
        "            for box in boxes:\n",
        "                class_label, x, y, width, height = box.tolist()\n",
        "                class_label = int(class_label)\n",
        "                i, j = int(self.S * y), int(self.S * x)\n",
        "                x_cell, y_cell = self.S * x - j, self.S * y - i\n",
        "                width_cell, height_cell = (width * self.S, height * self.S)\n",
        "                if label_matrix[i, j, c] == 0:\n",
        "                    label_matrix[i, j, c] = 1\n",
        "                    box_coordinates = torch.tensor(\n",
        "                        [x_cell, y_cell, width_cell, height_cell]\n",
        "                    )\n",
        "                    label_matrix[i, j, (c + 1) : (c + 5)] = box_coordinates\n",
        "                    label_matrix[i, j, class_label] = 1\n",
        "\n",
        "            return image, label_matrix"
      ]
    },
    {
      "cell_type": "code",
      "execution_count": null,
      "metadata": {
        "id": "siP_Cn9GnBX8"
      },
      "outputs": [],
      "source": [
        "def intersection_over_union(boxes_preds, boxes_labels):\n",
        "    \"\"\"\n",
        "    Calculates intersection over union\n",
        "\n",
        "    Parameters:\n",
        "        boxes_preds (tensor): Predictions of Bounding Boxes (BATCH_SIZE, 4) (x, y, w, h)\n",
        "        boxes_labels (tensor): Correct labels of Bounding Boxes (BATCH_SIZE, 4) (x, y, w, h)\n",
        "\n",
        "    Returns:\n",
        "        tensor: Intersection over union for all examples (BATCH_SIZE, 1) (box_iou)\n",
        "    \"\"\"\n",
        "\n",
        "    box1_x1 = boxes_preds[..., 0:1] - boxes_preds[..., 2:3] / 2\n",
        "    box1_y1 = boxes_preds[..., 1:2] - boxes_preds[..., 3:4] / 2\n",
        "    box1_x2 = boxes_preds[..., 0:1] + boxes_preds[..., 2:3] / 2\n",
        "    box1_y2 = boxes_preds[..., 1:2] + boxes_preds[..., 3:4] / 2\n",
        "    box2_x1 = boxes_labels[..., 0:1] - boxes_labels[..., 2:3] / 2\n",
        "    box2_y1 = boxes_labels[..., 1:2] - boxes_labels[..., 3:4] / 2\n",
        "    box2_x2 = boxes_labels[..., 0:1] + boxes_labels[..., 2:3] / 2\n",
        "    box2_y2 = boxes_labels[..., 1:2] + boxes_labels[..., 3:4] / 2\n",
        "\n",
        "    x1 = torch.max(box1_x1, box2_x1)\n",
        "    y1 = torch.max(box1_y1, box2_y1)\n",
        "    x2 = torch.min(box1_x2, box2_x2)\n",
        "    y2 = torch.min(box1_y2, box2_y2)\n",
        "\n",
        "    # .clamp(0) is for the case when they don't intersect. Since when they don't intersect, one of these will be negative so that should become 0\n",
        "    intersection = (x2 - x1).clamp(0) * (y2 - y1).clamp(0)\n",
        "\n",
        "    box1_area = abs((box1_x2 - box1_x1) * (box1_y2 - box1_y1))\n",
        "    box2_area = abs((box2_x2 - box2_x1) * (box2_y2 - box2_y1))\n",
        "\n",
        "    return intersection / (box1_area + box2_area - intersection + 1e-6)\n",
        "\n",
        "\n",
        "def non_max_suppression(bboxes):\n",
        "    \"\"\"\n",
        "    Does Non Max Suppression given bboxes\n",
        "    Parameters:\n",
        "        bboxes (list): list of lists containing all bboxes with each bbox\n",
        "        specified as [class_pred, prob_score, x, y, w, h]\n",
        "        iou_threshold (float): threshold where predicted bboxes is correct\n",
        "        threshold (float): threshold to remove predicted bboxes (independent of IoU)\n",
        "    Returns:\n",
        "        list: bboxes after performing NMS given a specific IoU threshold\n",
        "    \"\"\"\n",
        "\n",
        "    assert type(bboxes) == list\n",
        "\n",
        "    threshold = THRESHOLD\n",
        "    iou_threshold = IOU_THRESHOLD\n",
        "\n",
        "    bboxes = [box for box in bboxes if box[1] > threshold]\n",
        "    bboxes = sorted(bboxes, key=lambda x: x[1], reverse=True)\n",
        "    bboxes_after_nms = []\n",
        "\n",
        "    while bboxes:\n",
        "        chosen_box = bboxes.pop(0)\n",
        "\n",
        "        bboxes = [\n",
        "            box\n",
        "            for box in bboxes\n",
        "            if box[0] != chosen_box[0]\n",
        "            or intersection_over_union(\n",
        "                torch.tensor(chosen_box[2:]),\n",
        "                torch.tensor(box[2:]),\n",
        "            )\n",
        "            < iou_threshold\n",
        "        ]\n",
        "\n",
        "        bboxes_after_nms.append(chosen_box)\n",
        "\n",
        "    return bboxes_after_nms\n",
        "\n",
        "\n",
        "def get_metrics(loader, model):\n",
        "    \"\"\"\n",
        "    Calculates mean average precision\n",
        "    Parameters:\n",
        "        pred_boxes (list): list of lists containing all bboxes with each bboxes\n",
        "        specified as [train_idx, class_prediction, prob_score, x, y, w, h]\n",
        "        true_boxes (list): Similar as pred_boxes except all the correct ones\n",
        "    Returns:\n",
        "        float: mAP value across all classes given a specific IoU threshold\n",
        "    \"\"\"\n",
        "    pred_boxes, true_boxes = get_bboxes(loader, model)\n",
        "\n",
        "    iou_threshold = IOU_THRESHOLD\n",
        "    num_classes = C\n",
        "\n",
        "    # list storing all AP for respective classes\n",
        "    average_precisions = []\n",
        "    f1_scores = []\n",
        "    classes = []\n",
        "\n",
        "    # used for numerical stability later on\n",
        "    epsilon = 1e-6\n",
        "    true_f1 = 0\n",
        "\n",
        "    for c in range(num_classes):\n",
        "        detections = []\n",
        "        ground_truths = []\n",
        "\n",
        "        # Go through all predictions and targets,\n",
        "        # and only add the ones that belong to the\n",
        "        # current class c\n",
        "        for detection in pred_boxes:\n",
        "            if detection[1] == c:\n",
        "                detections.append(detection)\n",
        "\n",
        "        for true_box in true_boxes:\n",
        "            if true_box[1] == c:\n",
        "                ground_truths.append(true_box)\n",
        "\n",
        "        # find the amount of bboxes for each training example\n",
        "        # Counter here finds how many ground truth bboxes we get\n",
        "        # for each training example, so let's say img 0 has 3,\n",
        "        # img 1 has 5 then we will obtain a dictionary with:\n",
        "        # amount_bboxes = {0:3, 1:5}\n",
        "        amount_bboxes = Counter([gt[0] for gt in ground_truths])\n",
        "\n",
        "        # We then go through each key, val in this dictionary\n",
        "        # and convert to the following (w.r.t same example):\n",
        "        # ammount_bboxes = {0:torch.tensor[0,0,0], 1:torch.tensor[0,0,0,0,0]}\n",
        "        for key, val in amount_bboxes.items():\n",
        "            amount_bboxes[key] = torch.zeros(val)\n",
        "\n",
        "        # sort by box probabilities which is index 2\n",
        "        detections.sort(key=lambda x: x[2], reverse=True)\n",
        "        TP = torch.zeros((len(detections)))\n",
        "        FP = torch.zeros((len(detections)))\n",
        "        total_true_bboxes = len(ground_truths)\n",
        "        classes.append(total_true_bboxes)\n",
        "\n",
        "        # If none exists for this class then we can safely skip\n",
        "        if total_true_bboxes == 0:\n",
        "            continue\n",
        "\n",
        "        for detection_idx, detection in enumerate(detections):\n",
        "            # Only take out the ground_truths that have the same\n",
        "            # training idx as detection\n",
        "            ground_truth_img = [\n",
        "                bbox for bbox in ground_truths if bbox[0] == detection[0]\n",
        "            ]\n",
        "\n",
        "            best_iou = 0\n",
        "\n",
        "            for idx, gt in enumerate(ground_truth_img):\n",
        "                iou = intersection_over_union(\n",
        "                    torch.tensor(detection[3:]),\n",
        "                    torch.tensor(gt[3:]),\n",
        "                )\n",
        "\n",
        "                if iou > best_iou:\n",
        "                    best_iou = iou\n",
        "                    best_gt_idx = idx\n",
        "\n",
        "            if best_iou > iou_threshold:\n",
        "                # only detect ground truth detection once\n",
        "                if amount_bboxes[detection[0]][best_gt_idx] == 0:\n",
        "                    # true positive and add this bounding box to seen\n",
        "                    TP[detection_idx] = 1\n",
        "                    amount_bboxes[detection[0]][best_gt_idx] = 1\n",
        "                else:\n",
        "                    FP[detection_idx] = 1\n",
        "\n",
        "            # if IOU is lower then the detection is a false positive\n",
        "            else:\n",
        "                FP[detection_idx] = 1\n",
        "\n",
        "        TP_sum = sum(TP.tolist())\n",
        "        FP_sum = sum(FP.tolist())\n",
        "        frecall = TP_sum / (total_true_bboxes + epsilon)\n",
        "        fprecision = TP_sum / (TP_sum + FP_sum + epsilon)\n",
        "        f1 = 2 * (frecall * fprecision) / (frecall + fprecision + epsilon)\n",
        "        f1_scores.append(f1)\n",
        "\n",
        "        TP_cumsum = torch.cumsum(TP, dim=0)\n",
        "        FP_cumsum = torch.cumsum(FP, dim=0)\n",
        "        recalls = TP_cumsum / (total_true_bboxes + epsilon)\n",
        "        precisions = torch.divide(TP_cumsum, (TP_cumsum + FP_cumsum + epsilon))\n",
        "        precisions = torch.cat((torch.tensor([1]), precisions))\n",
        "        recalls = torch.cat((torch.tensor([0]), recalls))\n",
        "        # torch.trapz for numerical integration\n",
        "        average_precisions.append(torch.trapz(precisions, recalls))\n",
        "\n",
        "    classes = [i / sum(classes) for i in classes]\n",
        "    for c in range(len(f1_scores)):\n",
        "        true_f1 += f1_scores[c] * classes[c]\n",
        "\n",
        "    return sum(average_precisions) / len(average_precisions), true_f1\n",
        "\n",
        "\n",
        "def get_bboxes(loader, model):\n",
        "\n",
        "    iou_threshold = IOU_THRESHOLD\n",
        "    threshold = THRESHOLD\n",
        "    device = DEVICE\n",
        "\n",
        "    all_pred_boxes = []\n",
        "    all_true_boxes = []\n",
        "\n",
        "    # make sure model is in eval before get bboxes\n",
        "    model.eval()\n",
        "    train_idx = 0\n",
        "\n",
        "    for _, (x, labels) in enumerate(loader):\n",
        "        x = x.to(device)\n",
        "        labels = labels.to(device)\n",
        "\n",
        "        with torch.no_grad():\n",
        "            predictions = model(x)\n",
        "\n",
        "        batch_size = x.shape[0]\n",
        "        true_bboxes = cellboxes_to_boxes(labels)\n",
        "        bboxes = cellboxes_to_boxes(predictions)\n",
        "\n",
        "        for idx in range(batch_size):\n",
        "            nms_boxes = non_max_suppression(bboxes[idx])\n",
        "\n",
        "            # if batch_idx == 0 and idx == 0:\n",
        "            #    plot_image(x[idx].permute(1,2,0).to(\"cpu\"), nms_boxes)\n",
        "            #    print(nms_boxes)\n",
        "\n",
        "            for nms_box in nms_boxes:\n",
        "                all_pred_boxes.append([train_idx] + nms_box)\n",
        "\n",
        "            for box in true_bboxes[idx]:\n",
        "                # many will get converted to 0 pred\n",
        "                if box[1] > threshold:\n",
        "                    all_true_boxes.append([train_idx] + box)\n",
        "\n",
        "            train_idx += 1\n",
        "\n",
        "    model.train()\n",
        "    return all_pred_boxes, all_true_boxes\n",
        "\n",
        "\n",
        "def convert_cellboxes(predictions):\n",
        "    \"\"\"\n",
        "    Converts bounding boxes output from Yolo with\n",
        "    an image split size of S into entire image ratios\n",
        "    rather than relative to cell ratios.\n",
        "    \"\"\"\n",
        "\n",
        "    predictions = predictions.to(\"cpu\")\n",
        "    batch_size = predictions.shape[0]\n",
        "    predictions = predictions.reshape(batch_size, S, S, C + 10)\n",
        "    bboxes1 = predictions[..., C + 1 : C + 5]\n",
        "    bboxes2 = predictions[..., C + 6 : C + 10]\n",
        "    scores = torch.cat(\n",
        "        (predictions[..., C].unsqueeze(0), predictions[..., C + 5].unsqueeze(0)), dim=0\n",
        "    )\n",
        "    best_box = scores.argmax(0).unsqueeze(-1)\n",
        "    best_boxes = bboxes1 * (1 - best_box) + best_box * bboxes2\n",
        "    cell_indices = torch.arange(7).repeat(batch_size, 7, 1).unsqueeze(-1)\n",
        "    x = 1 / S * (best_boxes[..., :1] + cell_indices)\n",
        "    y = 1 / S * (best_boxes[..., 1:2] + cell_indices.permute(0, 2, 1, 3))\n",
        "    w_y = 1 / S * best_boxes[..., 2:4]\n",
        "    converted_bboxes = torch.cat((x, y, w_y), dim=-1)\n",
        "    predicted_class = predictions[..., :C].argmax(-1).unsqueeze(-1)\n",
        "    best_confidence = torch.max(predictions[..., C], predictions[..., C + 5]).unsqueeze(\n",
        "        -1\n",
        "    )\n",
        "    converted_preds = torch.cat(\n",
        "        (predicted_class, best_confidence, converted_bboxes), dim=-1\n",
        "    )\n",
        "\n",
        "    return converted_preds\n",
        "\n",
        "\n",
        "def cellboxes_to_boxes(out):\n",
        "    converted_pred = convert_cellboxes(out).reshape(out.shape[0], S * S, -1)\n",
        "    converted_pred[..., 0] = converted_pred[..., 0].long()\n",
        "    all_bboxes = []\n",
        "\n",
        "    for ex_idx in range(out.shape[0]):\n",
        "        bboxes = []\n",
        "\n",
        "        for bbox_idx in range(S * S):\n",
        "            bboxes.append([x.item() for x in converted_pred[ex_idx, bbox_idx, :]])\n",
        "        all_bboxes.append(bboxes)\n",
        "\n",
        "    return all_bboxes\n",
        "\n",
        "\n",
        "def plot_image(image, boxes):\n",
        "    \"\"\"Plots predicted bounding boxes on the image\"\"\"\n",
        "\n",
        "    image = cv2.imread(image)\n",
        "    im = np.array(image)\n",
        "    height, width, _ = im.shape\n",
        "\n",
        "    # Create figure and axes\n",
        "    _, ax = plt.subplots(1)\n",
        "    # Display the image\n",
        "    ax.imshow(im)\n",
        "\n",
        "    # box[0] is x midpoint, box[2] is width\n",
        "    # box[1] is y midpoint, box[3] is height\n",
        "\n",
        "    # Create a Rectangle potch\n",
        "    for box in boxes:\n",
        "        box = box[2:]\n",
        "        assert len(box) == 4, \"Got more values than in x, y, w, h, in a box!\"\n",
        "        upper_left_x = box[0] - box[2] / 2\n",
        "        upper_left_y = box[1] - box[3] / 2\n",
        "        rect = patches.Rectangle(\n",
        "            (upper_left_x * width, upper_left_y * height),\n",
        "            box[2] * width,\n",
        "            box[3] * height,\n",
        "            linewidth=1,\n",
        "            edgecolor=\"r\",\n",
        "            facecolor=\"none\",\n",
        "        )\n",
        "        # Add the patch to the Axes\n",
        "        ax.add_patch(rect)\n",
        "\n",
        "    plt.show()\n",
        "\n",
        "\n",
        "def save_checkpoint(state):\n",
        "    print(\"=> Saving checkpoint\")\n",
        "    torch.save(state, SAVE_MODEL_FILE)\n",
        "\n",
        "\n",
        "def load_checkpoint(checkpoint, model, optimizer):\n",
        "    print(\"=> Loading checkpoint\")\n",
        "    model.load_state_dict(checkpoint[\"state_dict\"])\n",
        "    optimizer.load_state_dict(checkpoint[\"optimizer\"])"
      ]
    },
    {
      "cell_type": "code",
      "execution_count": null,
      "metadata": {
        "id": "Ug1BNspXkNMn"
      },
      "outputs": [],
      "source": [
        "class YoloLoss(nn.Module):\n",
        "    def __init__(self):\n",
        "        super(YoloLoss, self).__init__()\n",
        "        self.mse = nn.MSELoss(reduction=\"sum\")\n",
        "        self.S = 7\n",
        "        self.B = 2\n",
        "        self.C = C\n",
        "        self.lambda_noobj = 0.5\n",
        "        self.lambda_coord = 5\n",
        "\n",
        "    def forward(self, predictions, target):\n",
        "        predictions = predictions.reshape(-1, self.S, self.S, self.C + self.B * 5)\n",
        "        iou_b1 = intersection_over_union(\n",
        "            predictions[..., self.C + 1 : self.C + 5],\n",
        "            target[..., self.C + 1 : self.C + 5],\n",
        "        )\n",
        "        iou_b2 = intersection_over_union(\n",
        "            predictions[..., self.C + 6 : self.C + 10],\n",
        "            target[..., self.C + 1 : self.C + 5],\n",
        "        )\n",
        "        ious = torch.cat([iou_b1.unsqueeze(0), iou_b2.unsqueeze(0)], dim=0)\n",
        "        _, best_box = torch.max(ious, dim=0)\n",
        "        exists_box = target[..., self.C].unsqueeze(3)  # Iobj_i\n",
        "\n",
        "        # ========================= #\n",
        "        #    FOR BOX COORDINATES    #\n",
        "        # ========================= #\n",
        "\n",
        "        box_predictions = exists_box * (\n",
        "            best_box * predictions[..., self.C + 6 : self.C + 10]\n",
        "            + (1 - best_box) * predictions[..., self.C + 1 : self.C + 5]\n",
        "        )\n",
        "        box_targets = exists_box * target[..., self.C + 1 : self.C + 5]\n",
        "        box_predictions[..., 2:4] = torch.sign(box_predictions[..., 2:4]) * torch.sqrt(\n",
        "            torch.abs(box_predictions[..., 2:4] + 1e-6)\n",
        "        )\n",
        "\n",
        "        box_targets[..., 2:4] = torch.sqrt(box_targets[..., 2:4])\n",
        "\n",
        "        # (N, S, S, 4) -> (N*S*S, 4)\n",
        "        box_loss = self.mse(\n",
        "            torch.flatten(box_predictions, end_dim=-2),\n",
        "            torch.flatten(box_targets, end_dim=-2),\n",
        "        )\n",
        "\n",
        "        # ===================== #\n",
        "        #    FOR OBJECT LOSS    #\n",
        "        # ===================== #\n",
        "\n",
        "        pred_box = (\n",
        "            best_box * predictions[..., self.C + 5 : self.C + 6]\n",
        "            + (1 - best_box) * predictions[..., self.C : self.C + 1]\n",
        "        )\n",
        "\n",
        "        # (N*S*S, 1)\n",
        "        object_loss = self.mse(\n",
        "            torch.flatten(exists_box * pred_box),\n",
        "            torch.flatten(exists_box * target[..., self.C : self.C + 1]),\n",
        "        )\n",
        "\n",
        "        # ======================== #\n",
        "        #    FOR NO OBJECT LOSS    #\n",
        "        # ======================== #\n",
        "\n",
        "        # (N, S, S, 1) --> (N, S*S)\n",
        "        no_object_loss = self.mse(\n",
        "            torch.flatten(\n",
        "                (1 - exists_box) * predictions[..., self.C : self.C + 1], start_dim=1\n",
        "            ),\n",
        "            torch.flatten(\n",
        "                (1 - exists_box) * target[..., self.C : self.C + 1], start_dim=1\n",
        "            ),\n",
        "        )\n",
        "        no_object_loss += self.mse(\n",
        "            torch.flatten(\n",
        "                (1 - exists_box) * predictions[..., self.C + 5 : self.C + 6],\n",
        "                start_dim=1,\n",
        "            ),\n",
        "            torch.flatten(\n",
        "                (1 - exists_box) * target[..., self.C : self.C + 1], start_dim=1\n",
        "            ),\n",
        "        )\n",
        "\n",
        "        # ==================== #\n",
        "        #    FOR CLASS LOSS    #\n",
        "        # ==================== #\n",
        "\n",
        "        # (N, S, S, 20) -> (N*S*S, 20)\n",
        "        class_loss = self.mse(\n",
        "            torch.flatten(exists_box * predictions[..., : self.C], end_dim=-2),\n",
        "            torch.flatten(exists_box * target[..., : self.C], end_dim=-2),\n",
        "        )\n",
        "\n",
        "        loss = (\n",
        "            self.lambda_coord * box_loss\n",
        "            + object_loss\n",
        "            + self.lambda_noobj * no_object_loss\n",
        "            + class_loss\n",
        "        )\n",
        "\n",
        "        return loss"
      ]
    },
    {
      "cell_type": "code",
      "execution_count": null,
      "metadata": {
        "id": "stMEVDQilA6H"
      },
      "outputs": [],
      "source": [
        "architecture_config = [\n",
        "    # Tuple: (kernel_size, number of filters, strides, padding)\n",
        "    # \"M\" = Max Pool Layer\n",
        "    # List: [(tuple), (tuple), how many times to repeat]\n",
        "    # Doesnt include fc layers\n",
        "    (7, 64, 2, 3),\n",
        "    \"M\",\n",
        "    (3, 192, 1, 1),\n",
        "    \"M\",\n",
        "    (1, 128, 1, 0),\n",
        "    (3, 256, 1, 1),\n",
        "    (1, 256, 1, 0),\n",
        "    (3, 512, 1, 1),\n",
        "    \"M\",\n",
        "    [(1, 256, 1, 0), (3, 512, 1, 1), 4],\n",
        "    (1, 512, 1, 0),\n",
        "    (3, 1024, 1, 1),\n",
        "    \"M\",\n",
        "    [(1, 512, 1, 0), (3, 1024, 1, 1), 2],\n",
        "    (3, 1024, 1, 1),\n",
        "    (3, 1024, 2, 1),\n",
        "    (3, 1024, 1, 1),\n",
        "    (3, 1024, 1, 1),\n",
        "]\n",
        "\n",
        "\n",
        "class CNNBlock(nn.Module):\n",
        "    def __init__(self, in_channels, out_channels, **kwargs):\n",
        "        super(CNNBlock, self).__init__()\n",
        "        self.conv = nn.Conv2d(in_channels, out_channels, **kwargs)\n",
        "        self.leakyrelu = nn.LeakyReLU(0.1)\n",
        "\n",
        "    def forward(self, x):\n",
        "        return self.leakyrelu(self.conv(x))\n",
        "\n",
        "\n",
        "class YoloV1(nn.Module):\n",
        "    def __init__(self):\n",
        "        super(YoloV1, self).__init__()\n",
        "        self.architecture = architecture_config\n",
        "        self.in_channels = 3\n",
        "        self.darknet = self._create_conv_layers(self.architecture)\n",
        "        self.fcs = self._create_fcs()\n",
        "\n",
        "    def forward(self, x):\n",
        "        x = self.darknet(x)\n",
        "        return self.fcs(torch.flatten(x, start_dim=1))\n",
        "\n",
        "    def _create_conv_layers(self, architecture):\n",
        "        layers = []\n",
        "        in_channels = self.in_channels\n",
        "\n",
        "        for x in architecture:\n",
        "            if type(x) == tuple:\n",
        "                layers += [\n",
        "                    CNNBlock(\n",
        "                        in_channels, x[1], kernel_size=x[0], stride=x[2], padding=x[3]\n",
        "                    )\n",
        "                ]\n",
        "                in_channels = x[1]\n",
        "            elif type(x) == str:\n",
        "                layers += [nn.MaxPool2d(kernel_size=2, stride=2)]\n",
        "            elif type(x) == list:\n",
        "                conv1 = x[0]  # Tuple\n",
        "                conv2 = x[1]  # Tuple\n",
        "                repeats = x[2]  # Int\n",
        "\n",
        "                for _ in range(repeats):\n",
        "                    layers += [\n",
        "                        CNNBlock(\n",
        "                            in_channels,\n",
        "                            conv1[1],\n",
        "                            kernel_size=conv1[0],\n",
        "                            stride=conv1[2],\n",
        "                            padding=conv1[3],\n",
        "                        )\n",
        "                    ]\n",
        "                    layers += [\n",
        "                        CNNBlock(\n",
        "                            conv1[1],\n",
        "                            conv2[1],\n",
        "                            kernel_size=conv2[0],\n",
        "                            stride=conv2[2],\n",
        "                            padding=conv2[3],\n",
        "                        )\n",
        "                    ]\n",
        "                    in_channels = conv2[1]\n",
        "\n",
        "        return nn.Sequential(*layers)\n",
        "\n",
        "    def _create_fcs(self):\n",
        "        B = 2\n",
        "        return nn.Sequential(\n",
        "            nn.Flatten(),\n",
        "            nn.Linear(1024 * S * S, 496),\n",
        "            nn.Dropout(0.0),\n",
        "            nn.LeakyReLU(0.1),\n",
        "            nn.Linear(496, S * S * (C + B * 5)),\n",
        "        )"
      ]
    },
    {
      "cell_type": "code",
      "execution_count": null,
      "metadata": {
        "colab": {
          "base_uri": "https://localhost:8080/"
        },
        "id": "VyP4qTQ9lseT",
        "outputId": "3688ed04-787d-40c6-860b-ae53deaa63a5"
      },
      "outputs": [
        {
          "name": "stdout",
          "output_type": "stream",
          "text": [
            "On epoch: 1\n"
          ]
        },
        {
          "name": "stderr",
          "output_type": "stream",
          "text": [
            "\r  0%|          | 0/41 [00:00<?, ?it/s]/usr/lib/python3.10/multiprocessing/popen_fork.py:66: RuntimeWarning: os.fork() was called. os.fork() is incompatible with multithreaded code, and JAX is multithreaded, so this will likely lead to a deadlock.\n",
            "  self.pid = os.fork()\n",
            "100%|██████████| 41/41 [00:12<00:00,  3.61it/s, loss=188]/usr/lib/python3.10/multiprocessing/popen_fork.py:66: RuntimeWarning: os.fork() was called. os.fork() is incompatible with multithreaded code, and JAX is multithreaded, so this will likely lead to a deadlock.\n",
            "  self.pid = os.fork()\n",
            "100%|██████████| 41/41 [00:12<00:00,  3.18it/s, loss=188]\n"
          ]
        },
        {
          "name": "stdout",
          "output_type": "stream",
          "text": [
            "Mean loss was 364.03588941620615\n",
            "On epoch: 2\n"
          ]
        },
        {
          "name": "stderr",
          "output_type": "stream",
          "text": [
            "100%|██████████| 41/41 [00:13<00:00,  3.12it/s, loss=132]\n"
          ]
        },
        {
          "name": "stdout",
          "output_type": "stream",
          "text": [
            "Mean loss was 130.9339034848097\n",
            "On epoch: 3\n"
          ]
        },
        {
          "name": "stderr",
          "output_type": "stream",
          "text": [
            "100%|██████████| 41/41 [00:13<00:00,  3.10it/s, loss=66.3]\n"
          ]
        },
        {
          "name": "stdout",
          "output_type": "stream",
          "text": [
            "Mean loss was 85.90502073706651\n",
            "On epoch: 4\n"
          ]
        },
        {
          "name": "stderr",
          "output_type": "stream",
          "text": [
            "100%|██████████| 41/41 [00:13<00:00,  2.99it/s, loss=65.7]\n"
          ]
        },
        {
          "name": "stdout",
          "output_type": "stream",
          "text": [
            "Mean loss was 76.80901066849871\n",
            "On epoch: 5\n"
          ]
        },
        {
          "name": "stderr",
          "output_type": "stream",
          "text": [
            "100%|██████████| 41/41 [00:13<00:00,  3.08it/s, loss=59.7]\n"
          ]
        },
        {
          "name": "stdout",
          "output_type": "stream",
          "text": [
            "Mean loss was 73.63895481388744\n",
            "On epoch: 6\n"
          ]
        },
        {
          "name": "stderr",
          "output_type": "stream",
          "text": [
            "100%|██████████| 41/41 [00:13<00:00,  3.09it/s, loss=61.8]\n"
          ]
        },
        {
          "name": "stdout",
          "output_type": "stream",
          "text": [
            "Mean loss was 70.64123228119641\n",
            "On epoch: 7\n"
          ]
        },
        {
          "name": "stderr",
          "output_type": "stream",
          "text": [
            "100%|██████████| 41/41 [00:13<00:00,  3.09it/s, loss=86.3]\n"
          ]
        },
        {
          "name": "stdout",
          "output_type": "stream",
          "text": [
            "Mean loss was 69.75616920285108\n",
            "On epoch: 8\n"
          ]
        },
        {
          "name": "stderr",
          "output_type": "stream",
          "text": [
            "100%|██████████| 41/41 [00:13<00:00,  3.02it/s, loss=84.9]\n"
          ]
        },
        {
          "name": "stdout",
          "output_type": "stream",
          "text": [
            "Mean loss was 68.40091221507002\n",
            "On epoch: 9\n"
          ]
        },
        {
          "name": "stderr",
          "output_type": "stream",
          "text": [
            "100%|██████████| 41/41 [00:13<00:00,  3.00it/s, loss=69]\n"
          ]
        },
        {
          "name": "stdout",
          "output_type": "stream",
          "text": [
            "Mean loss was 67.7435472069717\n",
            "On epoch: 10\n"
          ]
        },
        {
          "name": "stderr",
          "output_type": "stream",
          "text": [
            "100%|██████████| 41/41 [00:13<00:00,  3.05it/s, loss=65.8]"
          ]
        },
        {
          "name": "stdout",
          "output_type": "stream",
          "text": [
            "Mean loss was 66.9049301147461\n",
            "On epoch: 11\n"
          ]
        },
        {
          "name": "stderr",
          "output_type": "stream",
          "text": [
            "\n"
          ]
        },
        {
          "name": "stdout",
          "output_type": "stream",
          "text": [
            "Train mAP: 0.0\n",
            "Train F1 score: 0.0\n"
          ]
        },
        {
          "name": "stderr",
          "output_type": "stream",
          "text": [
            "100%|██████████| 41/41 [00:13<00:00,  3.01it/s, loss=79.7]\n"
          ]
        },
        {
          "name": "stdout",
          "output_type": "stream",
          "text": [
            "Mean loss was 66.18246720476849\n",
            "On epoch: 12\n"
          ]
        },
        {
          "name": "stderr",
          "output_type": "stream",
          "text": [
            "100%|██████████| 41/41 [00:13<00:00,  2.99it/s, loss=63.2]\n"
          ]
        },
        {
          "name": "stdout",
          "output_type": "stream",
          "text": [
            "Mean loss was 65.91005492791896\n",
            "On epoch: 13\n"
          ]
        },
        {
          "name": "stderr",
          "output_type": "stream",
          "text": [
            "100%|██████████| 41/41 [00:13<00:00,  3.04it/s, loss=50.5]\n"
          ]
        },
        {
          "name": "stdout",
          "output_type": "stream",
          "text": [
            "Mean loss was 65.30929407259313\n",
            "On epoch: 14\n"
          ]
        },
        {
          "name": "stderr",
          "output_type": "stream",
          "text": [
            "100%|██████████| 41/41 [00:13<00:00,  3.00it/s, loss=55.8]\n"
          ]
        },
        {
          "name": "stdout",
          "output_type": "stream",
          "text": [
            "Mean loss was 65.46831112373167\n",
            "On epoch: 15\n"
          ]
        },
        {
          "name": "stderr",
          "output_type": "stream",
          "text": [
            "100%|██████████| 41/41 [00:13<00:00,  2.98it/s, loss=63.7]"
          ]
        },
        {
          "name": "stdout",
          "output_type": "stream",
          "text": [
            "Mean loss was 64.20316938074623\n",
            "On epoch: 16\n"
          ]
        },
        {
          "name": "stderr",
          "output_type": "stream",
          "text": [
            "\n"
          ]
        },
        {
          "name": "stdout",
          "output_type": "stream",
          "text": [
            "Train mAP: 0.01380909513682127\n",
            "Train F1 score: 0.06944398471362662\n"
          ]
        },
        {
          "name": "stderr",
          "output_type": "stream",
          "text": [
            "100%|██████████| 41/41 [00:13<00:00,  2.98it/s, loss=76.7]\n"
          ]
        },
        {
          "name": "stdout",
          "output_type": "stream",
          "text": [
            "Mean loss was 64.19758792039825\n",
            "On epoch: 17\n"
          ]
        },
        {
          "name": "stderr",
          "output_type": "stream",
          "text": [
            "100%|██████████| 41/41 [00:13<00:00,  3.02it/s, loss=74.3]\n"
          ]
        },
        {
          "name": "stdout",
          "output_type": "stream",
          "text": [
            "Mean loss was 63.809247179729184\n",
            "On epoch: 18\n"
          ]
        },
        {
          "name": "stderr",
          "output_type": "stream",
          "text": [
            "100%|██████████| 41/41 [00:14<00:00,  2.93it/s, loss=69.9]\n"
          ]
        },
        {
          "name": "stdout",
          "output_type": "stream",
          "text": [
            "Mean loss was 62.89445402564072\n",
            "On epoch: 19\n"
          ]
        },
        {
          "name": "stderr",
          "output_type": "stream",
          "text": [
            "100%|██████████| 41/41 [00:13<00:00,  3.01it/s, loss=58.1]\n"
          ]
        },
        {
          "name": "stdout",
          "output_type": "stream",
          "text": [
            "Mean loss was 63.4246200933689\n",
            "On epoch: 20\n"
          ]
        },
        {
          "name": "stderr",
          "output_type": "stream",
          "text": [
            "100%|██████████| 41/41 [00:13<00:00,  3.02it/s, loss=51.1]"
          ]
        },
        {
          "name": "stdout",
          "output_type": "stream",
          "text": [
            "Mean loss was 63.00737632193216\n",
            "On epoch: 21\n"
          ]
        },
        {
          "name": "stderr",
          "output_type": "stream",
          "text": [
            "\n"
          ]
        },
        {
          "name": "stdout",
          "output_type": "stream",
          "text": [
            "Train mAP: 0.011033225804567337\n",
            "Train F1 score: 0.06935557791223625\n"
          ]
        },
        {
          "name": "stderr",
          "output_type": "stream",
          "text": [
            "100%|██████████| 41/41 [00:13<00:00,  3.06it/s, loss=78.6]\n"
          ]
        },
        {
          "name": "stdout",
          "output_type": "stream",
          "text": [
            "Mean loss was 62.796190773568505\n",
            "On epoch: 22\n"
          ]
        },
        {
          "name": "stderr",
          "output_type": "stream",
          "text": [
            "100%|██████████| 41/41 [00:13<00:00,  3.06it/s, loss=71.3]\n"
          ]
        },
        {
          "name": "stdout",
          "output_type": "stream",
          "text": [
            "Mean loss was 62.02474808111423\n",
            "On epoch: 23\n"
          ]
        },
        {
          "name": "stderr",
          "output_type": "stream",
          "text": [
            "100%|██████████| 41/41 [00:13<00:00,  3.00it/s, loss=55.8]\n"
          ]
        },
        {
          "name": "stdout",
          "output_type": "stream",
          "text": [
            "Mean loss was 62.21505188360447\n",
            "On epoch: 24\n"
          ]
        },
        {
          "name": "stderr",
          "output_type": "stream",
          "text": [
            "100%|██████████| 41/41 [00:13<00:00,  3.00it/s, loss=74.3]\n"
          ]
        },
        {
          "name": "stdout",
          "output_type": "stream",
          "text": [
            "Mean loss was 61.60756646133051\n",
            "On epoch: 25\n"
          ]
        },
        {
          "name": "stderr",
          "output_type": "stream",
          "text": [
            "100%|██████████| 41/41 [00:13<00:00,  2.99it/s, loss=88.4]"
          ]
        },
        {
          "name": "stdout",
          "output_type": "stream",
          "text": [
            "Mean loss was 61.74797979215296\n",
            "On epoch: 26\n"
          ]
        },
        {
          "name": "stderr",
          "output_type": "stream",
          "text": [
            "\n"
          ]
        },
        {
          "name": "stdout",
          "output_type": "stream",
          "text": [
            "Train mAP: 0.019061291590332985\n",
            "Train F1 score: 0.08452794411714111\n"
          ]
        },
        {
          "name": "stderr",
          "output_type": "stream",
          "text": [
            "100%|██████████| 41/41 [00:13<00:00,  3.06it/s, loss=43.2]\n"
          ]
        },
        {
          "name": "stdout",
          "output_type": "stream",
          "text": [
            "Mean loss was 60.531613419695596\n",
            "On epoch: 27\n"
          ]
        },
        {
          "name": "stderr",
          "output_type": "stream",
          "text": [
            "100%|██████████| 41/41 [00:13<00:00,  3.04it/s, loss=67.6]\n"
          ]
        },
        {
          "name": "stdout",
          "output_type": "stream",
          "text": [
            "Mean loss was 60.97176249434308\n",
            "On epoch: 28\n"
          ]
        },
        {
          "name": "stderr",
          "output_type": "stream",
          "text": [
            "100%|██████████| 41/41 [00:13<00:00,  3.08it/s, loss=57]\n"
          ]
        },
        {
          "name": "stdout",
          "output_type": "stream",
          "text": [
            "Mean loss was 61.06230024012124\n",
            "On epoch: 29\n"
          ]
        },
        {
          "name": "stderr",
          "output_type": "stream",
          "text": [
            "100%|██████████| 41/41 [00:13<00:00,  3.01it/s, loss=71.2]\n"
          ]
        },
        {
          "name": "stdout",
          "output_type": "stream",
          "text": [
            "Mean loss was 60.37847109538753\n",
            "On epoch: 30\n"
          ]
        },
        {
          "name": "stderr",
          "output_type": "stream",
          "text": [
            "100%|██████████| 41/41 [00:13<00:00,  3.05it/s, loss=49.3]"
          ]
        },
        {
          "name": "stdout",
          "output_type": "stream",
          "text": [
            "Mean loss was 60.020283024485515\n",
            "On epoch: 31\n"
          ]
        },
        {
          "name": "stderr",
          "output_type": "stream",
          "text": [
            "\n"
          ]
        },
        {
          "name": "stdout",
          "output_type": "stream",
          "text": [
            "Train mAP: 0.02269344963133335\n",
            "Train F1 score: 0.09282659370217469\n"
          ]
        },
        {
          "name": "stderr",
          "output_type": "stream",
          "text": [
            "100%|██████████| 41/41 [00:12<00:00,  3.17it/s, loss=77.9]\n"
          ]
        },
        {
          "name": "stdout",
          "output_type": "stream",
          "text": [
            "Mean loss was 59.11982866612876\n",
            "On epoch: 32\n"
          ]
        },
        {
          "name": "stderr",
          "output_type": "stream",
          "text": [
            "100%|██████████| 41/41 [00:13<00:00,  3.11it/s, loss=50.2]\n"
          ]
        },
        {
          "name": "stdout",
          "output_type": "stream",
          "text": [
            "Mean loss was 58.49571190810785\n",
            "On epoch: 33\n"
          ]
        },
        {
          "name": "stderr",
          "output_type": "stream",
          "text": [
            "100%|██████████| 41/41 [00:13<00:00,  3.12it/s, loss=63.4]\n"
          ]
        },
        {
          "name": "stdout",
          "output_type": "stream",
          "text": [
            "Mean loss was 58.57222329116449\n",
            "On epoch: 34\n"
          ]
        },
        {
          "name": "stderr",
          "output_type": "stream",
          "text": [
            "100%|██████████| 41/41 [00:13<00:00,  3.05it/s, loss=47.2]\n"
          ]
        },
        {
          "name": "stdout",
          "output_type": "stream",
          "text": [
            "Mean loss was 58.57194639996784\n",
            "On epoch: 35\n"
          ]
        },
        {
          "name": "stderr",
          "output_type": "stream",
          "text": [
            "100%|██████████| 41/41 [00:13<00:00,  3.05it/s, loss=48.3]"
          ]
        },
        {
          "name": "stdout",
          "output_type": "stream",
          "text": [
            "Mean loss was 58.11105411808665\n",
            "On epoch: 36\n"
          ]
        },
        {
          "name": "stderr",
          "output_type": "stream",
          "text": [
            "\n"
          ]
        },
        {
          "name": "stdout",
          "output_type": "stream",
          "text": [
            "Train mAP: 0.022320736199617386\n",
            "Train F1 score: 0.08964417125777314\n"
          ]
        },
        {
          "name": "stderr",
          "output_type": "stream",
          "text": [
            "100%|██████████| 41/41 [00:13<00:00,  2.98it/s, loss=53.1]\n"
          ]
        },
        {
          "name": "stdout",
          "output_type": "stream",
          "text": [
            "Mean loss was 57.777106029231376\n",
            "On epoch: 37\n"
          ]
        },
        {
          "name": "stderr",
          "output_type": "stream",
          "text": [
            "100%|██████████| 41/41 [00:13<00:00,  2.94it/s, loss=50.1]\n"
          ]
        },
        {
          "name": "stdout",
          "output_type": "stream",
          "text": [
            "Mean loss was 55.750613701052785\n",
            "On epoch: 38\n"
          ]
        },
        {
          "name": "stderr",
          "output_type": "stream",
          "text": [
            "100%|██████████| 41/41 [00:13<00:00,  2.98it/s, loss=53.4]\n"
          ]
        },
        {
          "name": "stdout",
          "output_type": "stream",
          "text": [
            "Mean loss was 55.04934655166254\n",
            "On epoch: 39\n"
          ]
        },
        {
          "name": "stderr",
          "output_type": "stream",
          "text": [
            "100%|██████████| 41/41 [00:13<00:00,  2.93it/s, loss=50.1]\n"
          ]
        },
        {
          "name": "stdout",
          "output_type": "stream",
          "text": [
            "Mean loss was 54.67870219160871\n",
            "On epoch: 40\n"
          ]
        },
        {
          "name": "stderr",
          "output_type": "stream",
          "text": [
            "100%|██████████| 41/41 [00:13<00:00,  2.97it/s, loss=50.2]"
          ]
        },
        {
          "name": "stdout",
          "output_type": "stream",
          "text": [
            "Mean loss was 53.45510501396365\n",
            "On epoch: 41\n"
          ]
        },
        {
          "name": "stderr",
          "output_type": "stream",
          "text": [
            "\n"
          ]
        },
        {
          "name": "stdout",
          "output_type": "stream",
          "text": [
            "Train mAP: 0.02732771262526512\n",
            "Train F1 score: 0.10093687803421098\n"
          ]
        },
        {
          "name": "stderr",
          "output_type": "stream",
          "text": [
            "100%|██████████| 41/41 [00:13<00:00,  2.94it/s, loss=59.3]\n"
          ]
        },
        {
          "name": "stdout",
          "output_type": "stream",
          "text": [
            "Mean loss was 53.18251437675662\n",
            "On epoch: 42\n"
          ]
        },
        {
          "name": "stderr",
          "output_type": "stream",
          "text": [
            "100%|██████████| 41/41 [00:13<00:00,  2.97it/s, loss=54.2]\n"
          ]
        },
        {
          "name": "stdout",
          "output_type": "stream",
          "text": [
            "Mean loss was 52.37777821610614\n",
            "On epoch: 43\n"
          ]
        },
        {
          "name": "stderr",
          "output_type": "stream",
          "text": [
            "100%|██████████| 41/41 [00:13<00:00,  3.01it/s, loss=65]\n"
          ]
        },
        {
          "name": "stdout",
          "output_type": "stream",
          "text": [
            "Mean loss was 50.99236786074755\n",
            "On epoch: 44\n"
          ]
        },
        {
          "name": "stderr",
          "output_type": "stream",
          "text": [
            "100%|██████████| 41/41 [00:13<00:00,  2.98it/s, loss=58.3]\n"
          ]
        },
        {
          "name": "stdout",
          "output_type": "stream",
          "text": [
            "Mean loss was 50.133760498791204\n",
            "On epoch: 45\n"
          ]
        },
        {
          "name": "stderr",
          "output_type": "stream",
          "text": [
            "100%|██████████| 41/41 [00:13<00:00,  2.95it/s, loss=48.2]"
          ]
        },
        {
          "name": "stdout",
          "output_type": "stream",
          "text": [
            "Mean loss was 48.81473336568693\n",
            "On epoch: 46\n"
          ]
        },
        {
          "name": "stderr",
          "output_type": "stream",
          "text": [
            "\n"
          ]
        },
        {
          "name": "stdout",
          "output_type": "stream",
          "text": [
            "Train mAP: 0.025148313492536545\n",
            "Train F1 score: 0.12774977312860872\n"
          ]
        },
        {
          "name": "stderr",
          "output_type": "stream",
          "text": [
            "100%|██████████| 41/41 [00:13<00:00,  3.01it/s, loss=38.1]\n"
          ]
        },
        {
          "name": "stdout",
          "output_type": "stream",
          "text": [
            "Mean loss was 49.05087243056879\n",
            "On epoch: 47\n"
          ]
        },
        {
          "name": "stderr",
          "output_type": "stream",
          "text": [
            "100%|██████████| 41/41 [00:13<00:00,  2.98it/s, loss=54.5]\n"
          ]
        },
        {
          "name": "stdout",
          "output_type": "stream",
          "text": [
            "Mean loss was 47.61898822319217\n",
            "On epoch: 48\n"
          ]
        },
        {
          "name": "stderr",
          "output_type": "stream",
          "text": [
            "100%|██████████| 41/41 [00:13<00:00,  2.95it/s, loss=42.6]\n"
          ]
        },
        {
          "name": "stdout",
          "output_type": "stream",
          "text": [
            "Mean loss was 46.19887431074933\n",
            "On epoch: 49\n"
          ]
        },
        {
          "name": "stderr",
          "output_type": "stream",
          "text": [
            "100%|██████████| 41/41 [00:13<00:00,  2.95it/s, loss=42.6]\n"
          ]
        },
        {
          "name": "stdout",
          "output_type": "stream",
          "text": [
            "Mean loss was 45.442690081712676\n",
            "On epoch: 50\n"
          ]
        },
        {
          "name": "stderr",
          "output_type": "stream",
          "text": [
            "100%|██████████| 41/41 [00:13<00:00,  2.98it/s, loss=47.5]"
          ]
        },
        {
          "name": "stdout",
          "output_type": "stream",
          "text": [
            "Mean loss was 44.733009012734016\n",
            "On epoch: 51\n"
          ]
        },
        {
          "name": "stderr",
          "output_type": "stream",
          "text": [
            "\n"
          ]
        },
        {
          "name": "stdout",
          "output_type": "stream",
          "text": [
            "Train mAP: 0.04094157740473747\n",
            "Train F1 score: 0.14055402809173567\n"
          ]
        },
        {
          "name": "stderr",
          "output_type": "stream",
          "text": [
            "100%|██████████| 41/41 [00:13<00:00,  3.04it/s, loss=45.1]\n"
          ]
        },
        {
          "name": "stdout",
          "output_type": "stream",
          "text": [
            "Mean loss was 43.698968747767005\n",
            "On epoch: 52\n"
          ]
        },
        {
          "name": "stderr",
          "output_type": "stream",
          "text": [
            "100%|██████████| 41/41 [00:13<00:00,  3.03it/s, loss=35.5]\n"
          ]
        },
        {
          "name": "stdout",
          "output_type": "stream",
          "text": [
            "Mean loss was 42.36127532400736\n",
            "=> Saving checkpoint\n",
            "On epoch: 53\n"
          ]
        },
        {
          "name": "stderr",
          "output_type": "stream",
          "text": [
            "100%|██████████| 41/41 [00:14<00:00,  2.92it/s, loss=46.5]\n"
          ]
        },
        {
          "name": "stdout",
          "output_type": "stream",
          "text": [
            "Mean loss was 41.124383228581124\n",
            "On epoch: 54\n"
          ]
        },
        {
          "name": "stderr",
          "output_type": "stream",
          "text": [
            "100%|██████████| 41/41 [00:14<00:00,  2.80it/s, loss=39.9]\n"
          ]
        },
        {
          "name": "stdout",
          "output_type": "stream",
          "text": [
            "Mean loss was 41.06848767908608\n",
            "On epoch: 55\n"
          ]
        },
        {
          "name": "stderr",
          "output_type": "stream",
          "text": [
            "100%|██████████| 41/41 [00:13<00:00,  3.06it/s, loss=46.1]"
          ]
        },
        {
          "name": "stdout",
          "output_type": "stream",
          "text": [
            "Mean loss was 39.244714039128\n",
            "On epoch: 56\n"
          ]
        },
        {
          "name": "stderr",
          "output_type": "stream",
          "text": [
            "\n"
          ]
        },
        {
          "name": "stdout",
          "output_type": "stream",
          "text": [
            "Train mAP: 0.06515882909297943\n",
            "Train F1 score: 0.18359330064586712\n"
          ]
        },
        {
          "name": "stderr",
          "output_type": "stream",
          "text": [
            "100%|██████████| 41/41 [00:13<00:00,  2.96it/s, loss=28.6]\n"
          ]
        },
        {
          "name": "stdout",
          "output_type": "stream",
          "text": [
            "Mean loss was 38.49265456781155\n",
            "=> Saving checkpoint\n",
            "On epoch: 57\n"
          ]
        },
        {
          "name": "stderr",
          "output_type": "stream",
          "text": [
            "100%|██████████| 41/41 [00:14<00:00,  2.84it/s, loss=32.8]\n"
          ]
        },
        {
          "name": "stdout",
          "output_type": "stream",
          "text": [
            "Mean loss was 37.47894775576708\n",
            "On epoch: 58\n"
          ]
        },
        {
          "name": "stderr",
          "output_type": "stream",
          "text": [
            "100%|██████████| 41/41 [00:14<00:00,  2.89it/s, loss=29.1]\n"
          ]
        },
        {
          "name": "stdout",
          "output_type": "stream",
          "text": [
            "Mean loss was 35.77605531273819\n",
            "On epoch: 59\n"
          ]
        },
        {
          "name": "stderr",
          "output_type": "stream",
          "text": [
            "100%|██████████| 41/41 [00:13<00:00,  3.05it/s, loss=34.1]\n"
          ]
        },
        {
          "name": "stdout",
          "output_type": "stream",
          "text": [
            "Mean loss was 34.94767119244831\n",
            "On epoch: 60\n"
          ]
        },
        {
          "name": "stderr",
          "output_type": "stream",
          "text": [
            "100%|██████████| 41/41 [00:13<00:00,  3.06it/s, loss=37.5]"
          ]
        },
        {
          "name": "stdout",
          "output_type": "stream",
          "text": [
            "Mean loss was 33.81861826268638\n",
            "On epoch: 61\n"
          ]
        },
        {
          "name": "stderr",
          "output_type": "stream",
          "text": [
            "\n"
          ]
        },
        {
          "name": "stdout",
          "output_type": "stream",
          "text": [
            "Train mAP: 0.11706922203302383\n",
            "Train F1 score: 0.2690526318799466\n"
          ]
        },
        {
          "name": "stderr",
          "output_type": "stream",
          "text": [
            "100%|██████████| 41/41 [00:13<00:00,  3.03it/s, loss=36.7]\n"
          ]
        },
        {
          "name": "stdout",
          "output_type": "stream",
          "text": [
            "Mean loss was 33.118390246135434\n",
            "=> Saving checkpoint\n",
            "On epoch: 62\n"
          ]
        },
        {
          "name": "stderr",
          "output_type": "stream",
          "text": [
            "100%|██████████| 41/41 [00:14<00:00,  2.86it/s, loss=33.2]\n"
          ]
        },
        {
          "name": "stdout",
          "output_type": "stream",
          "text": [
            "Mean loss was 32.362311107356376\n",
            "On epoch: 63\n"
          ]
        },
        {
          "name": "stderr",
          "output_type": "stream",
          "text": [
            "100%|██████████| 41/41 [00:15<00:00,  2.70it/s, loss=26.1]\n"
          ]
        },
        {
          "name": "stdout",
          "output_type": "stream",
          "text": [
            "Mean loss was 30.575266721771985\n",
            "On epoch: 64\n"
          ]
        },
        {
          "name": "stderr",
          "output_type": "stream",
          "text": [
            "100%|██████████| 41/41 [00:13<00:00,  2.97it/s, loss=40.6]\n"
          ]
        },
        {
          "name": "stdout",
          "output_type": "stream",
          "text": [
            "Mean loss was 29.24164725512993\n",
            "On epoch: 65\n"
          ]
        },
        {
          "name": "stderr",
          "output_type": "stream",
          "text": [
            "100%|██████████| 41/41 [00:13<00:00,  2.99it/s, loss=39.6]"
          ]
        },
        {
          "name": "stdout",
          "output_type": "stream",
          "text": [
            "Mean loss was 28.68560846840463\n",
            "On epoch: 66\n"
          ]
        },
        {
          "name": "stderr",
          "output_type": "stream",
          "text": [
            "\n"
          ]
        },
        {
          "name": "stdout",
          "output_type": "stream",
          "text": [
            "Train mAP: 0.18209637701511383\n",
            "Train F1 score: 0.3547047750681009\n"
          ]
        },
        {
          "name": "stderr",
          "output_type": "stream",
          "text": [
            "100%|██████████| 41/41 [00:13<00:00,  3.04it/s, loss=27.9]\n"
          ]
        },
        {
          "name": "stdout",
          "output_type": "stream",
          "text": [
            "Mean loss was 27.56001770205614\n",
            "=> Saving checkpoint\n",
            "On epoch: 67\n"
          ]
        },
        {
          "name": "stderr",
          "output_type": "stream",
          "text": [
            "100%|██████████| 41/41 [00:14<00:00,  2.86it/s, loss=31]\n"
          ]
        },
        {
          "name": "stdout",
          "output_type": "stream",
          "text": [
            "Mean loss was 27.15936363034132\n",
            "On epoch: 68\n"
          ]
        },
        {
          "name": "stderr",
          "output_type": "stream",
          "text": [
            "100%|██████████| 41/41 [00:14<00:00,  2.80it/s, loss=26.6]\n"
          ]
        },
        {
          "name": "stdout",
          "output_type": "stream",
          "text": [
            "Mean loss was 25.615867056497713\n",
            "On epoch: 69\n"
          ]
        },
        {
          "name": "stderr",
          "output_type": "stream",
          "text": [
            "100%|██████████| 41/41 [00:13<00:00,  2.99it/s, loss=25]\n"
          ]
        },
        {
          "name": "stdout",
          "output_type": "stream",
          "text": [
            "Mean loss was 25.07104943438274\n",
            "On epoch: 70\n"
          ]
        },
        {
          "name": "stderr",
          "output_type": "stream",
          "text": [
            "100%|██████████| 41/41 [00:13<00:00,  2.97it/s, loss=28.6]"
          ]
        },
        {
          "name": "stdout",
          "output_type": "stream",
          "text": [
            "Mean loss was 23.860601192567408\n",
            "On epoch: 71\n"
          ]
        },
        {
          "name": "stderr",
          "output_type": "stream",
          "text": [
            "\n"
          ]
        },
        {
          "name": "stdout",
          "output_type": "stream",
          "text": [
            "Train mAP: 0.26507794857025146\n",
            "Train F1 score: 0.44240080220694206\n"
          ]
        },
        {
          "name": "stderr",
          "output_type": "stream",
          "text": [
            "100%|██████████| 41/41 [00:13<00:00,  3.07it/s, loss=21.3]\n"
          ]
        },
        {
          "name": "stdout",
          "output_type": "stream",
          "text": [
            "Mean loss was 22.744410724174685\n",
            "=> Saving checkpoint\n",
            "On epoch: 72\n"
          ]
        },
        {
          "name": "stderr",
          "output_type": "stream",
          "text": [
            "100%|██████████| 41/41 [00:13<00:00,  3.06it/s, loss=26]\n"
          ]
        },
        {
          "name": "stdout",
          "output_type": "stream",
          "text": [
            "Mean loss was 22.691678372825063\n",
            "On epoch: 73\n"
          ]
        },
        {
          "name": "stderr",
          "output_type": "stream",
          "text": [
            "100%|██████████| 41/41 [00:14<00:00,  2.89it/s, loss=16.9]\n"
          ]
        },
        {
          "name": "stdout",
          "output_type": "stream",
          "text": [
            "Mean loss was 22.509443003956864\n",
            "On epoch: 74\n"
          ]
        },
        {
          "name": "stderr",
          "output_type": "stream",
          "text": [
            "100%|██████████| 41/41 [00:13<00:00,  3.06it/s, loss=24.6]\n"
          ]
        },
        {
          "name": "stdout",
          "output_type": "stream",
          "text": [
            "Mean loss was 20.810668480105516\n",
            "On epoch: 75\n"
          ]
        },
        {
          "name": "stderr",
          "output_type": "stream",
          "text": [
            "100%|██████████| 41/41 [00:13<00:00,  3.04it/s, loss=17.4]"
          ]
        },
        {
          "name": "stdout",
          "output_type": "stream",
          "text": [
            "Mean loss was 20.057406727860613\n",
            "On epoch: 76\n"
          ]
        },
        {
          "name": "stderr",
          "output_type": "stream",
          "text": [
            "\n"
          ]
        },
        {
          "name": "stdout",
          "output_type": "stream",
          "text": [
            "Train mAP: 0.4393065869808197\n",
            "Train F1 score: 0.5865429005454005\n"
          ]
        },
        {
          "name": "stderr",
          "output_type": "stream",
          "text": [
            "100%|██████████| 41/41 [00:13<00:00,  2.98it/s, loss=21.3]\n"
          ]
        },
        {
          "name": "stdout",
          "output_type": "stream",
          "text": [
            "Mean loss was 19.128906924550126\n",
            "=> Saving checkpoint\n",
            "On epoch: 77\n"
          ]
        },
        {
          "name": "stderr",
          "output_type": "stream",
          "text": [
            "100%|██████████| 41/41 [00:14<00:00,  2.84it/s, loss=13.7]\n"
          ]
        },
        {
          "name": "stdout",
          "output_type": "stream",
          "text": [
            "Mean loss was 18.414080456989566\n",
            "On epoch: 78\n"
          ]
        },
        {
          "name": "stderr",
          "output_type": "stream",
          "text": [
            "100%|██████████| 41/41 [00:14<00:00,  2.79it/s, loss=17.2]\n"
          ]
        },
        {
          "name": "stdout",
          "output_type": "stream",
          "text": [
            "Mean loss was 18.322055281662358\n",
            "On epoch: 79\n"
          ]
        },
        {
          "name": "stderr",
          "output_type": "stream",
          "text": [
            "100%|██████████| 41/41 [00:13<00:00,  2.99it/s, loss=20.2]\n"
          ]
        },
        {
          "name": "stdout",
          "output_type": "stream",
          "text": [
            "Mean loss was 18.503163500529965\n",
            "On epoch: 80\n"
          ]
        },
        {
          "name": "stderr",
          "output_type": "stream",
          "text": [
            "100%|██████████| 41/41 [00:13<00:00,  3.05it/s, loss=12.6]"
          ]
        },
        {
          "name": "stdout",
          "output_type": "stream",
          "text": [
            "Mean loss was 17.4676413884977\n",
            "On epoch: 81\n"
          ]
        },
        {
          "name": "stderr",
          "output_type": "stream",
          "text": [
            "\n"
          ]
        },
        {
          "name": "stdout",
          "output_type": "stream",
          "text": [
            "Train mAP: 0.5022300481796265\n",
            "Train F1 score: 0.6492980967655583\n"
          ]
        },
        {
          "name": "stderr",
          "output_type": "stream",
          "text": [
            "100%|██████████| 41/41 [00:13<00:00,  3.07it/s, loss=18.4]\n"
          ]
        },
        {
          "name": "stdout",
          "output_type": "stream",
          "text": [
            "Mean loss was 17.252324848640257\n",
            "=> Saving checkpoint\n",
            "On epoch: 82\n"
          ]
        },
        {
          "name": "stderr",
          "output_type": "stream",
          "text": [
            "100%|██████████| 41/41 [00:14<00:00,  2.86it/s, loss=16.7]\n"
          ]
        },
        {
          "name": "stdout",
          "output_type": "stream",
          "text": [
            "Mean loss was 15.569389738687654\n",
            "On epoch: 83\n"
          ]
        },
        {
          "name": "stderr",
          "output_type": "stream",
          "text": [
            "100%|██████████| 41/41 [00:14<00:00,  2.80it/s, loss=14.4]\n"
          ]
        },
        {
          "name": "stdout",
          "output_type": "stream",
          "text": [
            "Mean loss was 14.822796309866556\n",
            "On epoch: 84\n"
          ]
        },
        {
          "name": "stderr",
          "output_type": "stream",
          "text": [
            "100%|██████████| 41/41 [00:13<00:00,  3.03it/s, loss=15.1]\n"
          ]
        },
        {
          "name": "stdout",
          "output_type": "stream",
          "text": [
            "Mean loss was 13.905851875863425\n",
            "On epoch: 85\n"
          ]
        },
        {
          "name": "stderr",
          "output_type": "stream",
          "text": [
            "100%|██████████| 41/41 [00:13<00:00,  2.99it/s, loss=12.1]"
          ]
        },
        {
          "name": "stdout",
          "output_type": "stream",
          "text": [
            "Mean loss was 13.502981976764959\n",
            "On epoch: 86\n"
          ]
        },
        {
          "name": "stderr",
          "output_type": "stream",
          "text": [
            "\n"
          ]
        },
        {
          "name": "stdout",
          "output_type": "stream",
          "text": [
            "Train mAP: 0.7855005860328674\n",
            "Train F1 score: 0.8210422433387895\n"
          ]
        },
        {
          "name": "stderr",
          "output_type": "stream",
          "text": [
            "100%|██████████| 41/41 [00:13<00:00,  3.05it/s, loss=12.6]\n"
          ]
        },
        {
          "name": "stdout",
          "output_type": "stream",
          "text": [
            "Mean loss was 12.903489089593656\n",
            "=> Saving checkpoint\n",
            "On epoch: 87\n"
          ]
        },
        {
          "name": "stderr",
          "output_type": "stream",
          "text": [
            "100%|██████████| 41/41 [00:14<00:00,  2.88it/s, loss=14]\n"
          ]
        },
        {
          "name": "stdout",
          "output_type": "stream",
          "text": [
            "Mean loss was 12.868825354227205\n",
            "On epoch: 88\n"
          ]
        },
        {
          "name": "stderr",
          "output_type": "stream",
          "text": [
            "100%|██████████| 41/41 [00:14<00:00,  2.81it/s, loss=11.6]\n"
          ]
        },
        {
          "name": "stdout",
          "output_type": "stream",
          "text": [
            "Mean loss was 13.161226551707198\n",
            "On epoch: 89\n"
          ]
        },
        {
          "name": "stderr",
          "output_type": "stream",
          "text": [
            "100%|██████████| 41/41 [00:13<00:00,  2.96it/s, loss=12.7]\n"
          ]
        },
        {
          "name": "stdout",
          "output_type": "stream",
          "text": [
            "Mean loss was 12.822385741443169\n",
            "On epoch: 90\n"
          ]
        },
        {
          "name": "stderr",
          "output_type": "stream",
          "text": [
            "100%|██████████| 41/41 [00:13<00:00,  2.98it/s, loss=12.5]"
          ]
        },
        {
          "name": "stdout",
          "output_type": "stream",
          "text": [
            "Mean loss was 12.1497405447611\n",
            "On epoch: 91\n"
          ]
        },
        {
          "name": "stderr",
          "output_type": "stream",
          "text": [
            "\n"
          ]
        },
        {
          "name": "stdout",
          "output_type": "stream",
          "text": [
            "Train mAP: 0.8386624455451965\n",
            "Train F1 score: 0.8542146846167086\n"
          ]
        },
        {
          "name": "stderr",
          "output_type": "stream",
          "text": [
            "100%|██████████| 41/41 [00:13<00:00,  2.98it/s, loss=10.1]\n"
          ]
        },
        {
          "name": "stdout",
          "output_type": "stream",
          "text": [
            "Mean loss was 12.142178768064918\n",
            "=> Saving checkpoint\n",
            "On epoch: 92\n"
          ]
        },
        {
          "name": "stderr",
          "output_type": "stream",
          "text": [
            "100%|██████████| 41/41 [00:14<00:00,  2.88it/s, loss=12.6]\n"
          ]
        },
        {
          "name": "stdout",
          "output_type": "stream",
          "text": [
            "Mean loss was 12.035035354335134\n",
            "On epoch: 93\n"
          ]
        },
        {
          "name": "stderr",
          "output_type": "stream",
          "text": [
            "100%|██████████| 41/41 [00:14<00:00,  2.78it/s, loss=12.4]\n"
          ]
        },
        {
          "name": "stdout",
          "output_type": "stream",
          "text": [
            "Mean loss was 11.734930794413497\n",
            "On epoch: 94\n"
          ]
        },
        {
          "name": "stderr",
          "output_type": "stream",
          "text": [
            "100%|██████████| 41/41 [00:13<00:00,  2.94it/s, loss=10.7]\n"
          ]
        },
        {
          "name": "stdout",
          "output_type": "stream",
          "text": [
            "Mean loss was 10.715146762568777\n",
            "On epoch: 95\n"
          ]
        },
        {
          "name": "stderr",
          "output_type": "stream",
          "text": [
            "100%|██████████| 41/41 [00:13<00:00,  3.08it/s, loss=9.34]"
          ]
        },
        {
          "name": "stdout",
          "output_type": "stream",
          "text": [
            "Mean loss was 9.90100611709967\n",
            "On epoch: 96\n"
          ]
        },
        {
          "name": "stderr",
          "output_type": "stream",
          "text": [
            "\n"
          ]
        },
        {
          "name": "stdout",
          "output_type": "stream",
          "text": [
            "Train mAP: 0.9197279810905457\n",
            "Train F1 score: 0.9182504502200233\n"
          ]
        },
        {
          "name": "stderr",
          "output_type": "stream",
          "text": [
            "100%|██████████| 41/41 [00:13<00:00,  3.07it/s, loss=10.9]\n"
          ]
        },
        {
          "name": "stdout",
          "output_type": "stream",
          "text": [
            "Mean loss was 9.787582804517049\n",
            "=> Saving checkpoint\n",
            "On epoch: 97\n"
          ]
        },
        {
          "name": "stderr",
          "output_type": "stream",
          "text": [
            "100%|██████████| 41/41 [00:14<00:00,  2.87it/s, loss=10.5]\n"
          ]
        },
        {
          "name": "stdout",
          "output_type": "stream",
          "text": [
            "Mean loss was 9.315340972528226\n",
            "On epoch: 98\n"
          ]
        },
        {
          "name": "stderr",
          "output_type": "stream",
          "text": [
            "100%|██████████| 41/41 [00:14<00:00,  2.83it/s, loss=11.5]\n"
          ]
        },
        {
          "name": "stdout",
          "output_type": "stream",
          "text": [
            "Mean loss was 8.895252425496171\n",
            "On epoch: 99\n"
          ]
        },
        {
          "name": "stderr",
          "output_type": "stream",
          "text": [
            "100%|██████████| 41/41 [00:13<00:00,  3.00it/s, loss=9.63]\n"
          ]
        },
        {
          "name": "stdout",
          "output_type": "stream",
          "text": [
            "Mean loss was 8.61039879263901\n",
            "On epoch: 100\n"
          ]
        },
        {
          "name": "stderr",
          "output_type": "stream",
          "text": [
            "100%|██████████| 41/41 [00:13<00:00,  3.07it/s, loss=9.33]"
          ]
        },
        {
          "name": "stdout",
          "output_type": "stream",
          "text": [
            "Mean loss was 8.42773009509575\n"
          ]
        },
        {
          "name": "stderr",
          "output_type": "stream",
          "text": [
            "\n"
          ]
        }
      ],
      "source": [
        "torch.manual_seed(SEED)\n",
        "\n",
        "\n",
        "def train_fn(train_loader, model, optimizer, loss_fn):\n",
        "    loop = tqdm(train_loader, leave=True)\n",
        "    mean_loss = []\n",
        "\n",
        "    for _, (x, y) in enumerate(loop):\n",
        "        x, y = x.to(DEVICE), y.to(DEVICE)\n",
        "        out = model(x)\n",
        "        loss = loss_fn(out, y)\n",
        "        mean_loss.append(loss.item())\n",
        "        optimizer.zero_grad()\n",
        "        loss.backward()\n",
        "        optimizer.step()\n",
        "\n",
        "        # Update the progress bar\n",
        "        loop.set_postfix(loss=loss.item())\n",
        "    avg = sum(mean_loss) / len(mean_loss)\n",
        "    print(f\"Mean loss was {avg}\")\n",
        "\n",
        "    return avg\n",
        "\n",
        "\n",
        "def main():\n",
        "    model = YoloV1().to(DEVICE)\n",
        "    optimizer = optim.Adam(\n",
        "        model.parameters(), lr=LEARNING_RATE, weight_decay=WEIGHT_DECAY\n",
        "    )\n",
        "    loss_fn = YoloLoss()\n",
        "    transform = normal_transform\n",
        "\n",
        "    if LOAD_MODEL:\n",
        "        load_checkpoint(torch.load(LOAD_MODEL_FILE), model, optimizer)\n",
        "\n",
        "    train_dataset = YoloDataset(\n",
        "        \"train.csv\",\n",
        "        transform=transform,\n",
        "        img_dir=IMAGE_DIR + TRAIN_DIR,\n",
        "        label_dir=LABEL_DIR + TRAIN_DIR,\n",
        "    )\n",
        "\n",
        "    train_loader = DataLoader(\n",
        "        dataset=train_dataset,\n",
        "        batch_size=BATCH_SIZE,\n",
        "        num_workers=NUM_WORKERS,\n",
        "        pin_memory=PIN_MEMORY,\n",
        "        shuffle=True,\n",
        "        drop_last=True,\n",
        "    )\n",
        "    val_dataset = YoloDataset(\n",
        "        \"val.csv\",\n",
        "        transform=transform,\n",
        "        img_dir=IMAGE_DIR + TRAIN_DIR,\n",
        "        label_dir=LABEL_DIR + TRAIN_DIR,\n",
        "    )\n",
        "\n",
        "    val_loader = DataLoader(\n",
        "        dataset=train_dataset,\n",
        "        batch_size=BATCH_SIZE,\n",
        "        num_workers=NUM_WORKERS,\n",
        "        pin_memory=PIN_MEMORY,\n",
        "        shuffle=True,\n",
        "        drop_last=True,\n",
        "    )\n",
        "    best_f1 = 0\n",
        "    big_loss = 10000\n",
        "    fail_counter = 0\n",
        "    for epoch in range(EPOCHS):\n",
        "\n",
        "        print(f\"On epoch: {epoch + 1}\")\n",
        "        if epoch > 9 and epoch % 5 == 0:\n",
        "            mean_avg_prec, f1 = get_metrics(val_loader, model)\n",
        "            print(f\"Train mAP: {mean_avg_prec}\")\n",
        "            print(f\"Train F1 score: {f1}\")\n",
        "\n",
        "        current_loss = train_fn(train_loader, model, optimizer, loss_fn)\n",
        "\n",
        "        if current_loss < big_loss:\n",
        "            big_loss = current_loss\n",
        "            fail_counter = 0\n",
        "        else:\n",
        "            fail_counter += 1\n",
        "\n",
        "        # if fail_counter > 3:\n",
        "        #  for g in optimizer.param_groups:\n",
        "        #  g['lr'] *= 2\n",
        "\n",
        "        # if epoch % 10 == 0:\n",
        "        # for g in optimizer.param_groups:\n",
        "        #  g['lr'] /= 2\n",
        "\n",
        "        if epoch > 50 and f1 > best_f1:\n",
        "            best_f1 = f1\n",
        "            checkpoint = {\n",
        "                \"state_dict\": model.state_dict(),\n",
        "                \"optimizer\": optimizer.state_dict(),\n",
        "            }\n",
        "            save_checkpoint(checkpoint)\n",
        "\n",
        "\n",
        "if __name__ == \"__main__\":\n",
        "    main()"
      ]
    }
  ],
  "metadata": {
    "accelerator": "GPU",
    "colab": {
      "gpuType": "T4",
      "provenance": []
    },
    "kernelspec": {
      "display_name": "Python 3",
      "name": "python3"
    },
    "language_info": {
      "name": "python"
    }
  },
  "nbformat": 4,
  "nbformat_minor": 0
}
